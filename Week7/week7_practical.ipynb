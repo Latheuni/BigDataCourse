{
 "cells": [
  {
   "cell_type": "code",
   "execution_count": 1,
   "id": "e4c3fdf7",
   "metadata": {},
   "outputs": [],
   "source": [
    "import numpy as np\n",
    "import pandas as pd\n",
    "import seaborn as sns\n",
    "import matplotlib.pyplot as plt\n",
    "%matplotlib inline"
   ]
  },
  {
   "cell_type": "markdown",
   "id": "a39fede8",
   "metadata": {},
   "source": [
    "# Practical session 7: Data Visualization\n",
    "\n",
    "<div class=\"alert alert-block alert-info\">\n",
    "    <h2>Table of Contents </h2><a class=\"anchor\" id=\"top\"></a>\n",
    "    <br><a href=\"#section_1\">1. Exploring a biological dataset</a>\n",
    "    <br>&nbsp;&nbsp;&nbsp;&nbsp;<a href=\"#section_1_1\">1.1 Distributions</a>\n",
    "    <br>&nbsp;&nbsp;&nbsp;&nbsp;<a href=\"#section_1_2\">1.2 UMAP</a>\n",
    "    <br>&nbsp;&nbsp;&nbsp;&nbsp;<a href=\"#section_1_3\">1.3 Cell type proportions</a>\n",
    "    <br><a href=\"#section_2\">2. Scalability</a>\n",
    "    <br>&nbsp;&nbsp;&nbsp;&nbsp;<a href=\"#section_2_1\">2.1 Measuring runtimes</a>\n",
    "    <br>&nbsp;&nbsp;&nbsp;&nbsp;<a href=\"#section_2_2\">2.2 Pivoting and plotting runtimes</a>\n",
    "</div>\n",
    "\n",
    "The principal plotting library in Python is [matplotlib](https://matplotlib.org/stable/plot_types/index.html), but other great visualization libraries also exist:\n",
    "\n",
    "* [seaborn](http://seaborn.pydata.org/tutorial.html)\n",
    "* [bokeh](https://docs.bokeh.org/en/latest/docs/first_steps.html#first-steps), often used for interactive plots\n",
    "* [plotnine](https://plotnine.readthedocs.io/en/stable/), a port of ggplot2 from R\n",
    "\n",
    "For this session we recommend mainly using seaborn. However, it is possible to create the same plots with any library, so don't be afraid to experiment! Finally, in addition to the documentation, cheat sheets are also a good way to get an overview (and be reminded) of how to customize plots [[matplotlib](https://matplotlib.org/cheatsheets/), [seaborn](https://www.datacamp.com/cheat-sheet/python-seaborn-cheat-sheet)]."
   ]
  },
  {
   "cell_type": "markdown",
   "id": "96aeab2e",
   "metadata": {},
   "source": [
    "<h2 style=\"display: inline\"> 1. Exploring a biological dataset </h2> <span style=\"float: right\"><a href=\"#top\">[back to top]</a></span> <a class=\"anchor\" id=\"section_1\"></a> \n",
    "\n",
    "We will be using a dataset of mouse liver cells from [Guilliams et al. (2022)](https://www.sciencedirect.com/science/article/pii/S0092867421014811). The researchers performed single-cell RNA sequencing on mice liver, allowing us to know the RNA content of each liver cell. This dataset has been preprocessed and contains the following information for each cell:\n",
    "* `cell_id`: unique identifier\n",
    "* `nCount_RNA`: total number of RNA transcripts\n",
    "* `nFeature_RNA`: total number of genes\n",
    "* `UMAP_1`: x-coordinate of the cell in the UMAP space (UMAP = non-linear PCA)\n",
    "* `UMAP_2`: y-coordinate of the cell in the UMAP space\n",
    "* `sample`: the mice that the cell was obtained from\n",
    "* `celltype`: cell type annotation\n",
    "\n",
    "In the following sections, we will visualize some characteristics of the data. Consider which type of plot(s) would be best for each task. Also, try to optimize the presentation of your plot based on what you have learned during the lectures."
   ]
  },
  {
   "cell_type": "code",
   "execution_count": 2,
   "id": "b1fc94b5",
   "metadata": {},
   "outputs": [],
   "source": [
    "# Read in data\n",
    "liver = pd.read_csv(\"mouse_liver.csv\")"
   ]
  },
  {
   "cell_type": "code",
   "execution_count": 3,
   "id": "f29c0f20",
   "metadata": {},
   "outputs": [
    {
     "data": {
      "text/html": [
       "<div>\n",
       "<style scoped>\n",
       "    .dataframe tbody tr th:only-of-type {\n",
       "        vertical-align: middle;\n",
       "    }\n",
       "\n",
       "    .dataframe tbody tr th {\n",
       "        vertical-align: top;\n",
       "    }\n",
       "\n",
       "    .dataframe thead th {\n",
       "        text-align: right;\n",
       "    }\n",
       "</style>\n",
       "<table border=\"1\" class=\"dataframe\">\n",
       "  <thead>\n",
       "    <tr style=\"text-align: right;\">\n",
       "      <th></th>\n",
       "      <th>cell_id</th>\n",
       "      <th>nCount_RNA</th>\n",
       "      <th>nFeature_RNA</th>\n",
       "      <th>UMAP_1</th>\n",
       "      <th>UMAP_2</th>\n",
       "      <th>sample</th>\n",
       "      <th>celltype</th>\n",
       "    </tr>\n",
       "  </thead>\n",
       "  <tbody>\n",
       "    <tr>\n",
       "      <th>0</th>\n",
       "      <td>AAACCCAAGCATACTC-1</td>\n",
       "      <td>5916</td>\n",
       "      <td>2430</td>\n",
       "      <td>2.903706</td>\n",
       "      <td>0.226963</td>\n",
       "      <td>ABU7</td>\n",
       "      <td>Endothelial</td>\n",
       "    </tr>\n",
       "    <tr>\n",
       "      <th>1</th>\n",
       "      <td>AAACGCTGTTCTATCT-1</td>\n",
       "      <td>1003</td>\n",
       "      <td>491</td>\n",
       "      <td>2.812009</td>\n",
       "      <td>7.360530</td>\n",
       "      <td>ABU7</td>\n",
       "      <td>Hepatocytes</td>\n",
       "    </tr>\n",
       "    <tr>\n",
       "      <th>2</th>\n",
       "      <td>AAAGAACCAACGCCCA-1</td>\n",
       "      <td>10981</td>\n",
       "      <td>3727</td>\n",
       "      <td>1.410986</td>\n",
       "      <td>8.400421</td>\n",
       "      <td>ABU7</td>\n",
       "      <td>Hepatocytes</td>\n",
       "    </tr>\n",
       "    <tr>\n",
       "      <th>3</th>\n",
       "      <td>AAAGAACCAATAACGA-1</td>\n",
       "      <td>2280</td>\n",
       "      <td>1182</td>\n",
       "      <td>4.396062</td>\n",
       "      <td>11.609945</td>\n",
       "      <td>ABU7</td>\n",
       "      <td>KCs</td>\n",
       "    </tr>\n",
       "    <tr>\n",
       "      <th>4</th>\n",
       "      <td>AAAGAACTCCACACAA-1</td>\n",
       "      <td>5131</td>\n",
       "      <td>2157</td>\n",
       "      <td>8.277985</td>\n",
       "      <td>4.458262</td>\n",
       "      <td>ABU7</td>\n",
       "      <td>Fibroblasts</td>\n",
       "    </tr>\n",
       "  </tbody>\n",
       "</table>\n",
       "</div>"
      ],
      "text/plain": [
       "              cell_id  nCount_RNA  nFeature_RNA    UMAP_1     UMAP_2 sample  \\\n",
       "0  AAACCCAAGCATACTC-1        5916          2430  2.903706   0.226963   ABU7   \n",
       "1  AAACGCTGTTCTATCT-1        1003           491  2.812009   7.360530   ABU7   \n",
       "2  AAAGAACCAACGCCCA-1       10981          3727  1.410986   8.400421   ABU7   \n",
       "3  AAAGAACCAATAACGA-1        2280          1182  4.396062  11.609945   ABU7   \n",
       "4  AAAGAACTCCACACAA-1        5131          2157  8.277985   4.458262   ABU7   \n",
       "\n",
       "      celltype  \n",
       "0  Endothelial  \n",
       "1  Hepatocytes  \n",
       "2  Hepatocytes  \n",
       "3          KCs  \n",
       "4  Fibroblasts  "
      ]
     },
     "execution_count": 3,
     "metadata": {},
     "output_type": "execute_result"
    }
   ],
   "source": [
    "liver.head()"
   ]
  },
  {
   "cell_type": "markdown",
   "id": "b1066d1e",
   "metadata": {},
   "source": [
    "<h3 style=\"display: inline\"> 1.1 Distributions </h3> <span style=\"float: right\"><a href=\"#top\">[back to top]</a></span> <a class=\"anchor\" id=\"section_1_1\"></a> \n",
    "\n",
    "<div class=\"alert alert-success\">\n",
    "<h3> Exercise</h3>\n",
    "    <br> Visualize the following in separate plots:\n",
    "    <ol>\n",
    "        <li> The distribution of number of RNA transcripts per cell type (<code>nCount_RNA</code>).\n",
    "        <li> The distribution of number of genes per cell type (<code>nFeature_RNA</code>).\n",
    "    </ol>\n",
    "</div>"
   ]
  },
  {
   "cell_type": "code",
   "execution_count": null,
   "id": "48fc9609",
   "metadata": {},
   "outputs": [],
   "source": [
    "# Plot distribution of RNA transcripts per cell type\n",
    "..."
   ]
  },
  {
   "cell_type": "code",
   "execution_count": null,
   "id": "9adf1979",
   "metadata": {},
   "outputs": [],
   "source": [
    "# Plot distribution of genes per cell type\n",
    "..."
   ]
  },
  {
   "cell_type": "markdown",
   "id": "0ad73eae",
   "metadata": {},
   "source": [
    "<div class=\"alert alert-block alert-warning\">\n",
    "    Which cell type has the highest number of transcripts and genes on average? <br>\n",
    "</div>"
   ]
  },
  {
   "cell_type": "markdown",
   "id": "ada195b3",
   "metadata": {},
   "source": [
    "<h3 style=\"display: inline\"> 1.2 UMAP </h3> <span style=\"float: right\"><a href=\"#top\">[back to top]</a></span> <a class=\"anchor\" id=\"section_1_2\"></a> \n",
    "\n",
    "<div class=\"alert alert-success\">\n",
    "<h3> Exercise</h3>\n",
    "    <br> Create a UMAP plot of the cells colored by its cell type.\n",
    "</div>\n",
    "\n",
    "As mentioned above, you can think of a UMAP as a non-linear variant of the PCA. The UMAP preserves the global structure of the data points, and often cell types that are closer together in the UMAP are more similar than those that are farther apart."
   ]
  },
  {
   "cell_type": "code",
   "execution_count": null,
   "id": "8f560e3c",
   "metadata": {},
   "outputs": [],
   "source": [
    "# Plot UMAP\n",
    "..."
   ]
  },
  {
   "cell_type": "markdown",
   "id": "da5b0389",
   "metadata": {},
   "source": [
    "<div class=\"alert alert-block alert-warning\">\n",
    "    Which cell type seems to be the most different from other cell types? Try to quantify this based on the UMAP coordinates.\n",
    "</div>"
   ]
  },
  {
   "cell_type": "markdown",
   "id": "895cdb6d",
   "metadata": {},
   "source": [
    "<h3 style=\"display: inline\"> 1.3 Cell type proportions </h3> <span style=\"float: right\"><a href=\"#top\">[back to top]</a></span> <a class=\"anchor\" id=\"section_1_3\"></a> \n",
    "\n",
    "It is important to also check if we obtain similar cell type proportions for each sample (i.e., mice), to confirm whether the experiment worked well for all samples. For this, we first have to count the number of each cell type per sample:"
   ]
  },
  {
   "cell_type": "code",
   "execution_count": 8,
   "id": "7c0c8255",
   "metadata": {
    "scrolled": true
   },
   "outputs": [
    {
     "data": {
      "text/html": [
       "<div>\n",
       "<style scoped>\n",
       "    .dataframe tbody tr th:only-of-type {\n",
       "        vertical-align: middle;\n",
       "    }\n",
       "\n",
       "    .dataframe tbody tr th {\n",
       "        vertical-align: top;\n",
       "    }\n",
       "\n",
       "    .dataframe thead th {\n",
       "        text-align: right;\n",
       "    }\n",
       "</style>\n",
       "<table border=\"1\" class=\"dataframe\">\n",
       "  <thead>\n",
       "    <tr style=\"text-align: right;\">\n",
       "      <th></th>\n",
       "      <th>sample</th>\n",
       "      <th>celltype</th>\n",
       "      <th>n</th>\n",
       "      <th>props</th>\n",
       "    </tr>\n",
       "  </thead>\n",
       "  <tbody>\n",
       "    <tr>\n",
       "      <th>0</th>\n",
       "      <td>ABU17</td>\n",
       "      <td>B cells</td>\n",
       "      <td>40</td>\n",
       "      <td>0.022923</td>\n",
       "    </tr>\n",
       "    <tr>\n",
       "      <th>1</th>\n",
       "      <td>ABU17</td>\n",
       "      <td>Cholangiocytes</td>\n",
       "      <td>22</td>\n",
       "      <td>0.012607</td>\n",
       "    </tr>\n",
       "    <tr>\n",
       "      <th>2</th>\n",
       "      <td>ABU17</td>\n",
       "      <td>DCs</td>\n",
       "      <td>4</td>\n",
       "      <td>0.002292</td>\n",
       "    </tr>\n",
       "    <tr>\n",
       "      <th>3</th>\n",
       "      <td>ABU17</td>\n",
       "      <td>Endothelial</td>\n",
       "      <td>267</td>\n",
       "      <td>0.153009</td>\n",
       "    </tr>\n",
       "    <tr>\n",
       "      <th>4</th>\n",
       "      <td>ABU17</td>\n",
       "      <td>Fibroblasts</td>\n",
       "      <td>243</td>\n",
       "      <td>0.139255</td>\n",
       "    </tr>\n",
       "  </tbody>\n",
       "</table>\n",
       "</div>"
      ],
      "text/plain": [
       "  sample        celltype    n     props\n",
       "0  ABU17         B cells   40  0.022923\n",
       "1  ABU17  Cholangiocytes   22  0.012607\n",
       "2  ABU17             DCs    4  0.002292\n",
       "3  ABU17     Endothelial  267  0.153009\n",
       "4  ABU17     Fibroblasts  243  0.139255"
      ]
     },
     "execution_count": 8,
     "metadata": {},
     "output_type": "execute_result"
    }
   ],
   "source": [
    "# Method 1\n",
    "# Count the number of each celltype per sample and store this in a column called 'n'\n",
    "liver_counts = liver.groupby(['sample', 'celltype']).size().reset_index(name='n')\n",
    "\n",
    "# For some plotting functions, you may also need to calculate the proportions yourself\n",
    "liver_counts['props'] = liver_counts.groupby('sample', group_keys=False)['n'].apply(lambda x: x / x.sum())\n",
    "liver_counts.head()"
   ]
  },
  {
   "cell_type": "markdown",
   "id": "080527eb",
   "metadata": {},
   "source": [
    "<div class=\"alert alert-success\">\n",
    "<h3> Exercise</h3>\n",
    "    <br> Plot the proportions of each cell type per sample.\n",
    "</div>"
   ]
  },
  {
   "cell_type": "code",
   "execution_count": null,
   "id": "a88f4273",
   "metadata": {},
   "outputs": [],
   "source": [
    "# Plot\n",
    "..."
   ]
  },
  {
   "cell_type": "markdown",
   "id": "954ca2b1",
   "metadata": {},
   "source": [
    "<h2 style=\"display: inline\">2. Scalability</h2> <span style=\"float: right\"><a href=\"#top\">[back to top]</a></span> <a class=\"anchor\" id=\"section_2\"></a> \n",
    "\n",
    "One important aspect of big data is how well different algorithms scale. We can visualise this by plotting run times against data set sizes. When talking about run times, it’s important to distinguish between the time required to construct/fit a model (construction time) and the time required to predict results with this model (query time).\n",
    "\n",
    "As we need a bigger dataset for this exercise, instead of using a toy dataset, we will make use of sklearn's [`fetch_openml`](https://scikit-learn.org/stable/modules/generated/sklearn.datasets.fetch_openml.html) function to fetch a dataset from the OpenML repository. We will use the MiniBooNE dataset, which is used to distinguish electron neutrinos (signal) from muon neutrinos (background)."
   ]
  },
  {
   "cell_type": "code",
   "execution_count": 12,
   "id": "a18794db",
   "metadata": {},
   "outputs": [],
   "source": [
    "from sklearn.datasets import fetch_openml\n",
    "X, y = fetch_openml(name='miniboone', version=1, parser=\"auto\", return_X_y=True)"
   ]
  },
  {
   "cell_type": "markdown",
   "id": "f259582b",
   "metadata": {},
   "source": [
    "<div class=\"alert alert-block alert-warning\">\n",
    "    How many features are in this dataset? How many samples? How many classes?\n",
    "</div>"
   ]
  },
  {
   "cell_type": "markdown",
   "id": "5b765af5",
   "metadata": {},
   "source": [
    "It’s generally most informative to use logarithmic axes when measuring runtimes, so we will vary the training set size in powers of two, from 2<sup>3</sup> until 2<sup>15</sup>. We will measure the scalability of four classifiers: Nearest Neighbours, Support Vector Machine, Classification and Regression Tree (CART) and Random Forest. We will use these models to predict 1000 test instances and divide the resulting times by 1000 to obtain the query time per instance. This gives us more robust results, as it is generally safe to assume that there is a linear dependency between the number of test instances and query time."
   ]
  },
  {
   "cell_type": "code",
   "execution_count": 13,
   "id": "e4b90540",
   "metadata": {},
   "outputs": [],
   "source": [
    "# Import all models\n",
    "from sklearn.model_selection import train_test_split\n",
    "from sklearn.ensemble import RandomForestClassifier\n",
    "from sklearn.neighbors import KNeighborsClassifier\n",
    "from sklearn.svm import SVC\n",
    "from sklearn.tree import DecisionTreeClassifier\n",
    "\n",
    "# Use the same random state for reproducibility, even though we are not interested\n",
    "# in the prediction results here.\n",
    "random_state = 0\n",
    "\n",
    "# Create tuple of classifiers\n",
    "classifiers = [\n",
    "    ('KNN', KNeighborsClassifier()),\n",
    "    ('SVM', SVC()),\n",
    "    ('CART', DecisionTreeClassifier(random_state=random_state)),\n",
    "    ('Random Forest', RandomForestClassifier(random_state=random_state))\n",
    "]\n",
    "\n",
    "# Select 1000 test instances\n",
    "# Note that they are stratified, so the classes are balanced\n",
    "X_train_pool, X_test, y_train_pool, y_test = train_test_split(\n",
    "    X, y, test_size=1000, stratify=y, random_state=random_state\n",
    ")"
   ]
  },
  {
   "cell_type": "markdown",
   "id": "b8c1ffea",
   "metadata": {},
   "source": [
    "<h3 style=\"display: inline\"> 2.1 Measuring runtimes </h3> <span style=\"float: right\"><a href=\"#top\">[back to top]</a></span> <a class=\"anchor\" id=\"section_2_1\"></a> \n",
    "\n",
    "<div class=\"alert alert-success\">\n",
    "<h3> Exercise</h3>\n",
    "    <br>Measure construction and query times for different training set sizes.\n",
    "\n",
    "<b>Hint:</b> To measure time, start with <code>from datetime import datetime</code>, and use <code>datetime.now()</code> at the start and end of the section of code that you want to time. If you subtract these values from each other, you obtain the duration, which you can convert into the number of seconds with <code>(end_time-start_time).total_seconds()</code>.\n",
    "</div>\n"
   ]
  },
  {
   "cell_type": "code",
   "execution_count": null,
   "id": "35831390",
   "metadata": {},
   "outputs": [],
   "source": [
    "from datetime import datetime\n",
    "\n",
    "# Create empty lists to store the results\n",
    "classifier_list = []\n",
    "p_list = []\n",
    "construction_time_list = []\n",
    "query_time_list = []\n",
    "\n",
    "# Iterate over the powers of 2 that we will use\n",
    "for p in range(3, 16):\n",
    "    print('Current loop: 2^{}'.format(p))\n",
    "    \n",
    "    # Stratify by 'y_train_pool' to ensure our training set contains instances from both classes.\n",
    "    X_train, _, y_train, _ = train_test_split(\n",
    "        X_train_pool, y_train_pool,\n",
    "        train_size=..., # << FILL IN HERE!\n",
    "        stratify=y_train_pool,\n",
    "        random_state=random_state\n",
    "    )\n",
    "\n",
    "    for clf_name, clf in classifiers:\n",
    "        # Measure construction time\n",
    "        ...\n",
    "        \n",
    "        # Measure query time\n",
    "        ...\n",
    "        \n",
    "        # Store results\n",
    "        classifier_list.append(...)\n",
    "        p_list.append(...)\n",
    "        construction_time_list.append(...)\n",
    "        query_time_list.append(...) # Don't forget to divide by 1000\n",
    "\n",
    "        \n",
    "# Create a dictionary to store the results\n",
    "results_dict = {'classifier': ...,\n",
    "                'p': ...,\n",
    "                'construction_time': ...,\n",
    "                'query_time': ...}\n",
    "\n",
    "# Convert the dictionary to a DataFrame\n",
    "results_df = ..."
   ]
  },
  {
   "cell_type": "code",
   "execution_count": 15,
   "id": "2f9256a6",
   "metadata": {},
   "outputs": [
    {
     "data": {
      "text/html": [
       "<div>\n",
       "<style scoped>\n",
       "    .dataframe tbody tr th:only-of-type {\n",
       "        vertical-align: middle;\n",
       "    }\n",
       "\n",
       "    .dataframe tbody tr th {\n",
       "        vertical-align: top;\n",
       "    }\n",
       "\n",
       "    .dataframe thead th {\n",
       "        text-align: right;\n",
       "    }\n",
       "</style>\n",
       "<table border=\"1\" class=\"dataframe\">\n",
       "  <thead>\n",
       "    <tr style=\"text-align: right;\">\n",
       "      <th></th>\n",
       "      <th>classifier</th>\n",
       "      <th>p</th>\n",
       "      <th>construction_time</th>\n",
       "      <th>query_time</th>\n",
       "    </tr>\n",
       "  </thead>\n",
       "  <tbody>\n",
       "    <tr>\n",
       "      <th>0</th>\n",
       "      <td>KNN</td>\n",
       "      <td>3</td>\n",
       "      <td>0.001207</td>\n",
       "      <td>4.075200e-05</td>\n",
       "    </tr>\n",
       "    <tr>\n",
       "      <th>1</th>\n",
       "      <td>SVM</td>\n",
       "      <td>3</td>\n",
       "      <td>0.001223</td>\n",
       "      <td>9.350000e-07</td>\n",
       "    </tr>\n",
       "    <tr>\n",
       "      <th>2</th>\n",
       "      <td>CART</td>\n",
       "      <td>3</td>\n",
       "      <td>0.001081</td>\n",
       "      <td>6.690000e-07</td>\n",
       "    </tr>\n",
       "    <tr>\n",
       "      <th>3</th>\n",
       "      <td>Random Forest</td>\n",
       "      <td>3</td>\n",
       "      <td>0.061193</td>\n",
       "      <td>6.422000e-06</td>\n",
       "    </tr>\n",
       "    <tr>\n",
       "      <th>4</th>\n",
       "      <td>KNN</td>\n",
       "      <td>4</td>\n",
       "      <td>0.001071</td>\n",
       "      <td>1.257800e-05</td>\n",
       "    </tr>\n",
       "    <tr>\n",
       "      <th>5</th>\n",
       "      <td>SVM</td>\n",
       "      <td>4</td>\n",
       "      <td>0.001192</td>\n",
       "      <td>1.142000e-06</td>\n",
       "    </tr>\n",
       "    <tr>\n",
       "      <th>6</th>\n",
       "      <td>CART</td>\n",
       "      <td>4</td>\n",
       "      <td>0.001026</td>\n",
       "      <td>6.210000e-07</td>\n",
       "    </tr>\n",
       "    <tr>\n",
       "      <th>7</th>\n",
       "      <td>Random Forest</td>\n",
       "      <td>4</td>\n",
       "      <td>0.061894</td>\n",
       "      <td>6.742000e-06</td>\n",
       "    </tr>\n",
       "    <tr>\n",
       "      <th>8</th>\n",
       "      <td>KNN</td>\n",
       "      <td>5</td>\n",
       "      <td>0.001061</td>\n",
       "      <td>1.113500e-05</td>\n",
       "    </tr>\n",
       "    <tr>\n",
       "      <th>9</th>\n",
       "      <td>SVM</td>\n",
       "      <td>5</td>\n",
       "      <td>0.001150</td>\n",
       "      <td>1.507000e-06</td>\n",
       "    </tr>\n",
       "  </tbody>\n",
       "</table>\n",
       "</div>"
      ],
      "text/plain": [
       "      classifier  p  construction_time    query_time\n",
       "0            KNN  3           0.001207  4.075200e-05\n",
       "1            SVM  3           0.001223  9.350000e-07\n",
       "2           CART  3           0.001081  6.690000e-07\n",
       "3  Random Forest  3           0.061193  6.422000e-06\n",
       "4            KNN  4           0.001071  1.257800e-05\n",
       "5            SVM  4           0.001192  1.142000e-06\n",
       "6           CART  4           0.001026  6.210000e-07\n",
       "7  Random Forest  4           0.061894  6.742000e-06\n",
       "8            KNN  5           0.001061  1.113500e-05\n",
       "9            SVM  5           0.001150  1.507000e-06"
      ]
     },
     "execution_count": 15,
     "metadata": {},
     "output_type": "execute_result"
    }
   ],
   "source": [
    "results_df.head(10)"
   ]
  },
  {
   "cell_type": "markdown",
   "id": "2001575e",
   "metadata": {},
   "source": [
    "<h3 style=\"display: inline\"> 2.2 Pivoting and plotting runtimes </h3> <span style=\"float: right\"><a href=\"#top\">[back to top]</a></span> <a class=\"anchor\" id=\"section_2_2\"></a> \n",
    "\n",
    "Although we could already use the `results_df` dataframe to create a plot of the runtimes per classifier, it would require the use of a `for` loop. A more elegant solution - and something you would often have to do in data wrangling - is to pivot the dataframe from its **long** format to a **wide** one.  Consider the example below from [Towards Data Science](https://towardsdatascience.com/reshaping-a-pandas-dataframe-long-to-wide-and-vice-versa-517c7f0995ad):\n",
    "\n",
    "![dataframe](./long_vs_wide.webp)\n",
    "\n",
    "> The dataframe on the left is structured in a **long** format: each food category (‘Item’) has multiple repeating rows, each of which represents a specific year/month and the average food price corresponding to that year/month. Though we only have 5 food categories (‘items’), we have a total of 139 rows, making the dataframe a **long** shape.\n",
    ">\n",
    "> In contrast, the dataframe on the right has a **wide** format — more like a spreadsheet-style format. In this format, each row represents a unique food category. We pivot the ‘Year Month’ column in the left dataframe so that each month is in a separate column — making the right dataframe a ‘wide’ shape. The values of the ‘Year Month’ column in the left table now become the column names in the right table and we have the ‘avg. price’ for each Month/Year column accordingly.\n",
    "\n",
    "Pandas offers the [`pd.pivot`](https://pandas.pydata.org/docs/reference/api/pandas.DataFrame.pivot.html) function which helps us transpose between the two formats. In the example above, this can be achieved using:\n",
    "\n",
    "> <code> df_wide = pd.pivot(df_long, index=['Series ID','Item'], columns = 'Year Month',\n",
    "    values = 'Avg. Price ($)') </code>"
   ]
  },
  {
   "cell_type": "markdown",
   "id": "5b677637",
   "metadata": {},
   "source": [
    "<div class=\"alert alert-success\">\n",
    "<h3> Exercise</h3>\n",
    "    <br>Pivot the <code>results_df</code> to a wide format, with each classifier on the columns and the <b>construction time</b> as values. Then, visualize the construction time per classifier across training set sizes. It is also recommended to set the y-axis on a logarithmic scale.\n",
    "</div>"
   ]
  },
  {
   "cell_type": "code",
   "execution_count": null,
   "id": "00f1d230",
   "metadata": {},
   "outputs": [],
   "source": [
    "# Pivot to obtain columns that correspond to the different classifiers\n",
    "construction_time = results_df.pivot(...)\n",
    "\n",
    "# Plot construction times\n",
    "..."
   ]
  },
  {
   "cell_type": "markdown",
   "id": "01e060c0",
   "metadata": {},
   "source": [
    "<div class=\"alert alert-success\">\n",
    "<h3> Exercise</h3>\n",
    "    <br>Follow the same strategy as above but with using <b>query time</b> as values.\n",
    "</div>"
   ]
  },
  {
   "cell_type": "code",
   "execution_count": null,
   "id": "99d6a0d4",
   "metadata": {},
   "outputs": [],
   "source": [
    "# Pivot to obtain columns that correspond to the different classifiers\n",
    "query_times = results_df.pivot(...)\n",
    "\n",
    "# Plot query times\n",
    "..."
   ]
  }
 ],
 "metadata": {
  "kernelspec": {
   "display_name": "Python 3 (ipykernel)",
   "language": "python",
   "name": "python3"
  },
  "language_info": {
   "codemirror_mode": {
    "name": "ipython",
    "version": 3
   },
   "file_extension": ".py",
   "mimetype": "text/x-python",
   "name": "python",
   "nbconvert_exporter": "python",
   "pygments_lexer": "ipython3",
   "version": "3.10.8"
  }
 },
 "nbformat": 4,
 "nbformat_minor": 5
}
