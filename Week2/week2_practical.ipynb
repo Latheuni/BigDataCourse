{
 "cells": [
  {
   "cell_type": "code",
   "execution_count": 1,
   "id": "c3e68e72",
   "metadata": {},
   "outputs": [],
   "source": [
    "import numpy as np\n",
    "import pandas as pd\n",
    "%matplotlib inline\n",
    "import matplotlib.pyplot as plt"
   ]
  },
  {
   "cell_type": "markdown",
   "id": "47a12340",
   "metadata": {},
   "source": [
    "# Practical session 2: Regression and Resampling"
   ]
  },
  {
   "cell_type": "markdown",
   "id": "3ed7616f",
   "metadata": {},
   "source": [
    "By now, we have seen two regression methods for predicting a continuous output (linear regression and K-nearest neighbors), and one classification method for predicting a discrete output (logistic regression). In addition, we have learned about model assessment through different resampling methods, i.e., train-test validation, (leave-one-out) cross-validation, and bootstrapping.\n",
    "\n",
    "In this practical session, we will implement all the predictive models and resampling methods. We will create and fit these models with the `scikit-learn` library (written as `sklearn` when you import it), which we have installed when creating our conda environment."
   ]
  },
  {
   "cell_type": "markdown",
   "id": "b9c7bcf3",
   "metadata": {},
   "source": [
    "## 1. Using regression and classification models"
   ]
  },
  {
   "cell_type": "markdown",
   "id": "6f2409ca",
   "metadata": {},
   "source": [
    "Scikit-learn is a collection of tools for predictive data anlysis. In [this link](https://scikit-learn.org/stable/supervised_learning.html) you will find the available supervised models and a guide on how to use them. The [API reference](https://scikit-learn.org/stable/modules/classes.html) page of each model also gives you an example code, in addition to the parameters and attributes of each model. The models we are using in this practical are\n",
    "* [1.1.1 Ordinary Least Squares](https://scikit-learn.org/stable/modules/linear_model.html#ordinary-least-squares) ([API](https://scikit-learn.org/stable/modules/generated/sklearn.linear_model.LinearRegression.html#sklearn.linear_model.LinearRegression)), \n",
    "* [1.6.3 Nearest Neighbors Regression](https://scikit-learn.org/stable/modules/neighbors.html#nearest-neighbors-regression) ([API](https://scikit-learn.org/stable/modules/generated/sklearn.linear_model.LogisticRegression.html#sklearn.linear_model.LogisticRegression)), and\n",
    "* [1.1.11 Logistic regression](https://scikit-learn.org/stable/modules/linear_model.html#logistic-regression) ([API](https://scikit-learn.org/stable/modules/generated/sklearn.neighbors.KNeighborsRegressor.html#sklearn.neighbors.KNeighborsRegressor)).\n",
    "\n",
    "Whether it is a regression or classification problem, predictive modeling generally boils down to the following steps:\n",
    "1. Loading the dataset.\n",
    "2. Declaring the model you will use.\n",
    "3. Fitting the training data to the model.\n",
    "4. Using the model to predict new output.\n",
    "\n",
    "Fortunately, scikit-learn also has provided a few [datasets](https://scikit-learn.org/stable/datasets.html) for us to apply our model on. In this first part of the practical we will be using smaller datasets, or [toy datasets](https://scikit-learn.org/stable/datasets/toy_dataset.html), namely the diabetes dataset for regression, and iris dataset for classification."
   ]
  },
  {
   "cell_type": "markdown",
   "id": "fed6661d",
   "metadata": {},
   "source": [
    "### 1.1 Linear regression\n",
    "\n",
    "In this section, we demonstrate how to apply linear regression on the diabetes dataset. This dataset contains 442 samples and 10 features, e.g., age, sex, and bmi, to predict a quantitative measure of diabetes progression one year after baseline."
   ]
  },
  {
   "cell_type": "code",
   "execution_count": 2,
   "id": "93c56fbb",
   "metadata": {},
   "outputs": [],
   "source": [
    "# 1. Load the dataset\n",
    "from sklearn import datasets\n",
    "diabetes_X, diabetes_y = datasets.load_diabetes(return_X_y = True, as_frame = True, scaled = False)"
   ]
  },
  {
   "cell_type": "markdown",
   "id": "6a7d36d1",
   "metadata": {},
   "source": [
    "You can check what the arguments of the `load_diabetes` function does [here](\n",
    "https://scikit-learn.org/stable/modules/generated/sklearn.datasets.load_diabetes.html#sklearn.datasets.load_diabetes). Essentially,\n",
    "* `return_X_y = True` tells the function to return a separate object for the predictors (X) and the response variable (y),\n",
    "* `as_frame = True` tells the function to return a `pandas.DataFrame` object, and\n",
    "* `scaled = False` returns unscaled values of the data.\n",
    "\n",
    "`pandas` is a library that helps you work with datasets by \n",
    "providing functions for analyzing, cleaning, exploring, and manipulating data. For example, with the command `head`, you can see the first few rows of your data:\n"
   ]
  },
  {
   "cell_type": "code",
   "execution_count": 3,
   "id": "cd0fc67f",
   "metadata": {},
   "outputs": [
    {
     "data": {
      "text/html": [
       "<div>\n",
       "<style scoped>\n",
       "    .dataframe tbody tr th:only-of-type {\n",
       "        vertical-align: middle;\n",
       "    }\n",
       "\n",
       "    .dataframe tbody tr th {\n",
       "        vertical-align: top;\n",
       "    }\n",
       "\n",
       "    .dataframe thead th {\n",
       "        text-align: right;\n",
       "    }\n",
       "</style>\n",
       "<table border=\"1\" class=\"dataframe\">\n",
       "  <thead>\n",
       "    <tr style=\"text-align: right;\">\n",
       "      <th></th>\n",
       "      <th>age</th>\n",
       "      <th>sex</th>\n",
       "      <th>bmi</th>\n",
       "      <th>bp</th>\n",
       "      <th>s1</th>\n",
       "      <th>s2</th>\n",
       "      <th>s3</th>\n",
       "      <th>s4</th>\n",
       "      <th>s5</th>\n",
       "      <th>s6</th>\n",
       "    </tr>\n",
       "  </thead>\n",
       "  <tbody>\n",
       "    <tr>\n",
       "      <th>0</th>\n",
       "      <td>59.0</td>\n",
       "      <td>2.0</td>\n",
       "      <td>32.1</td>\n",
       "      <td>101.0</td>\n",
       "      <td>157.0</td>\n",
       "      <td>93.2</td>\n",
       "      <td>38.0</td>\n",
       "      <td>4.0</td>\n",
       "      <td>4.8598</td>\n",
       "      <td>87.0</td>\n",
       "    </tr>\n",
       "    <tr>\n",
       "      <th>1</th>\n",
       "      <td>48.0</td>\n",
       "      <td>1.0</td>\n",
       "      <td>21.6</td>\n",
       "      <td>87.0</td>\n",
       "      <td>183.0</td>\n",
       "      <td>103.2</td>\n",
       "      <td>70.0</td>\n",
       "      <td>3.0</td>\n",
       "      <td>3.8918</td>\n",
       "      <td>69.0</td>\n",
       "    </tr>\n",
       "    <tr>\n",
       "      <th>2</th>\n",
       "      <td>72.0</td>\n",
       "      <td>2.0</td>\n",
       "      <td>30.5</td>\n",
       "      <td>93.0</td>\n",
       "      <td>156.0</td>\n",
       "      <td>93.6</td>\n",
       "      <td>41.0</td>\n",
       "      <td>4.0</td>\n",
       "      <td>4.6728</td>\n",
       "      <td>85.0</td>\n",
       "    </tr>\n",
       "    <tr>\n",
       "      <th>3</th>\n",
       "      <td>24.0</td>\n",
       "      <td>1.0</td>\n",
       "      <td>25.3</td>\n",
       "      <td>84.0</td>\n",
       "      <td>198.0</td>\n",
       "      <td>131.4</td>\n",
       "      <td>40.0</td>\n",
       "      <td>5.0</td>\n",
       "      <td>4.8903</td>\n",
       "      <td>89.0</td>\n",
       "    </tr>\n",
       "    <tr>\n",
       "      <th>4</th>\n",
       "      <td>50.0</td>\n",
       "      <td>1.0</td>\n",
       "      <td>23.0</td>\n",
       "      <td>101.0</td>\n",
       "      <td>192.0</td>\n",
       "      <td>125.4</td>\n",
       "      <td>52.0</td>\n",
       "      <td>4.0</td>\n",
       "      <td>4.2905</td>\n",
       "      <td>80.0</td>\n",
       "    </tr>\n",
       "  </tbody>\n",
       "</table>\n",
       "</div>"
      ],
      "text/plain": [
       "    age  sex   bmi     bp     s1     s2    s3   s4      s5    s6\n",
       "0  59.0  2.0  32.1  101.0  157.0   93.2  38.0  4.0  4.8598  87.0\n",
       "1  48.0  1.0  21.6   87.0  183.0  103.2  70.0  3.0  3.8918  69.0\n",
       "2  72.0  2.0  30.5   93.0  156.0   93.6  41.0  4.0  4.6728  85.0\n",
       "3  24.0  1.0  25.3   84.0  198.0  131.4  40.0  5.0  4.8903  89.0\n",
       "4  50.0  1.0  23.0  101.0  192.0  125.4  52.0  4.0  4.2905  80.0"
      ]
     },
     "execution_count": 3,
     "metadata": {},
     "output_type": "execute_result"
    }
   ],
   "source": [
    "# Predictors (or features, or independent variables)\n",
    "diabetes_X.head()"
   ]
  },
  {
   "cell_type": "code",
   "execution_count": 4,
   "id": "d665b9ab",
   "metadata": {},
   "outputs": [
    {
     "data": {
      "text/plain": [
       "0    151.0\n",
       "1     75.0\n",
       "2    141.0\n",
       "3    206.0\n",
       "4    135.0\n",
       "Name: target, dtype: float64"
      ]
     },
     "execution_count": 4,
     "metadata": {},
     "output_type": "execute_result"
    }
   ],
   "source": [
    "# Response (or dependent variable)\n",
    "diabetes_y.head()"
   ]
  },
  {
   "cell_type": "markdown",
   "id": "a2e3f483",
   "metadata": {},
   "source": [
    "For simplicity purposes, let us make a model with only 1 predictor, the bmi. You can easily subset a `DataFrame` object by putting its column name(s) in square brackets. However, a single bracket will output a `pandas.Series` object (which we can't use to fit the model), whereas a double bracket will output a `pandas.DataFrame` object. "
   ]
  },
  {
   "cell_type": "code",
   "execution_count": 5,
   "id": "3b6818b9",
   "metadata": {},
   "outputs": [
    {
     "name": "stdout",
     "output_type": "stream",
     "text": [
      "Subsetting with single brackets\n",
      "Data type: <class 'pandas.core.series.Series'>, \n",
      "Dimension: (442,)\n",
      "\n",
      "Subsetting with double brackets\n",
      "Data type: <class 'pandas.core.frame.DataFrame'>, \n",
      "Dimension: (442, 1)\n"
     ]
    }
   ],
   "source": [
    "print(\"Subsetting with single brackets\")\n",
    "print(\"Data type: {}, \\nDimension: {}\\n\".format(type(diabetes_X['bmi']), diabetes_X['bmi'].shape))\n",
    "\n",
    "print(\"Subsetting with double brackets\")\n",
    "print(\"Data type: {}, \\nDimension: {}\".format(type(diabetes_X[['bmi']]), diabetes_X[['bmi']].shape))"
   ]
  },
  {
   "cell_type": "markdown",
   "id": "f8603d43",
   "metadata": {},
   "source": [
    "Now, let's build the model!"
   ]
  },
  {
   "cell_type": "code",
   "execution_count": 6,
   "id": "265792ec",
   "metadata": {},
   "outputs": [
    {
     "data": {
      "text/html": [
       "<style>#sk-container-id-1 {color: black;background-color: white;}#sk-container-id-1 pre{padding: 0;}#sk-container-id-1 div.sk-toggleable {background-color: white;}#sk-container-id-1 label.sk-toggleable__label {cursor: pointer;display: block;width: 100%;margin-bottom: 0;padding: 0.3em;box-sizing: border-box;text-align: center;}#sk-container-id-1 label.sk-toggleable__label-arrow:before {content: \"▸\";float: left;margin-right: 0.25em;color: #696969;}#sk-container-id-1 label.sk-toggleable__label-arrow:hover:before {color: black;}#sk-container-id-1 div.sk-estimator:hover label.sk-toggleable__label-arrow:before {color: black;}#sk-container-id-1 div.sk-toggleable__content {max-height: 0;max-width: 0;overflow: hidden;text-align: left;background-color: #f0f8ff;}#sk-container-id-1 div.sk-toggleable__content pre {margin: 0.2em;color: black;border-radius: 0.25em;background-color: #f0f8ff;}#sk-container-id-1 input.sk-toggleable__control:checked~div.sk-toggleable__content {max-height: 200px;max-width: 100%;overflow: auto;}#sk-container-id-1 input.sk-toggleable__control:checked~label.sk-toggleable__label-arrow:before {content: \"▾\";}#sk-container-id-1 div.sk-estimator input.sk-toggleable__control:checked~label.sk-toggleable__label {background-color: #d4ebff;}#sk-container-id-1 div.sk-label input.sk-toggleable__control:checked~label.sk-toggleable__label {background-color: #d4ebff;}#sk-container-id-1 input.sk-hidden--visually {border: 0;clip: rect(1px 1px 1px 1px);clip: rect(1px, 1px, 1px, 1px);height: 1px;margin: -1px;overflow: hidden;padding: 0;position: absolute;width: 1px;}#sk-container-id-1 div.sk-estimator {font-family: monospace;background-color: #f0f8ff;border: 1px dotted black;border-radius: 0.25em;box-sizing: border-box;margin-bottom: 0.5em;}#sk-container-id-1 div.sk-estimator:hover {background-color: #d4ebff;}#sk-container-id-1 div.sk-parallel-item::after {content: \"\";width: 100%;border-bottom: 1px solid gray;flex-grow: 1;}#sk-container-id-1 div.sk-label:hover label.sk-toggleable__label {background-color: #d4ebff;}#sk-container-id-1 div.sk-serial::before {content: \"\";position: absolute;border-left: 1px solid gray;box-sizing: border-box;top: 0;bottom: 0;left: 50%;z-index: 0;}#sk-container-id-1 div.sk-serial {display: flex;flex-direction: column;align-items: center;background-color: white;padding-right: 0.2em;padding-left: 0.2em;position: relative;}#sk-container-id-1 div.sk-item {position: relative;z-index: 1;}#sk-container-id-1 div.sk-parallel {display: flex;align-items: stretch;justify-content: center;background-color: white;position: relative;}#sk-container-id-1 div.sk-item::before, #sk-container-id-1 div.sk-parallel-item::before {content: \"\";position: absolute;border-left: 1px solid gray;box-sizing: border-box;top: 0;bottom: 0;left: 50%;z-index: -1;}#sk-container-id-1 div.sk-parallel-item {display: flex;flex-direction: column;z-index: 1;position: relative;background-color: white;}#sk-container-id-1 div.sk-parallel-item:first-child::after {align-self: flex-end;width: 50%;}#sk-container-id-1 div.sk-parallel-item:last-child::after {align-self: flex-start;width: 50%;}#sk-container-id-1 div.sk-parallel-item:only-child::after {width: 0;}#sk-container-id-1 div.sk-dashed-wrapped {border: 1px dashed gray;margin: 0 0.4em 0.5em 0.4em;box-sizing: border-box;padding-bottom: 0.4em;background-color: white;}#sk-container-id-1 div.sk-label label {font-family: monospace;font-weight: bold;display: inline-block;line-height: 1.2em;}#sk-container-id-1 div.sk-label-container {text-align: center;}#sk-container-id-1 div.sk-container {/* jupyter's `normalize.less` sets `[hidden] { display: none; }` but bootstrap.min.css set `[hidden] { display: none !important; }` so we also need the `!important` here to be able to override the default hidden behavior on the sphinx rendered scikit-learn.org. See: https://github.com/scikit-learn/scikit-learn/issues/21755 */display: inline-block !important;position: relative;}#sk-container-id-1 div.sk-text-repr-fallback {display: none;}</style><div id=\"sk-container-id-1\" class=\"sk-top-container\"><div class=\"sk-text-repr-fallback\"><pre>LinearRegression()</pre><b>In a Jupyter environment, please rerun this cell to show the HTML representation or trust the notebook. <br />On GitHub, the HTML representation is unable to render, please try loading this page with nbviewer.org.</b></div><div class=\"sk-container\" hidden><div class=\"sk-item\"><div class=\"sk-estimator sk-toggleable\"><input class=\"sk-toggleable__control sk-hidden--visually\" id=\"sk-estimator-id-1\" type=\"checkbox\" checked><label for=\"sk-estimator-id-1\" class=\"sk-toggleable__label sk-toggleable__label-arrow\">LinearRegression</label><div class=\"sk-toggleable__content\"><pre>LinearRegression()</pre></div></div></div></div></div>"
      ],
      "text/plain": [
       "LinearRegression()"
      ]
     },
     "execution_count": 6,
     "metadata": {},
     "output_type": "execute_result"
    }
   ],
   "source": [
    "from sklearn.linear_model import LinearRegression\n",
    "\n",
    "# 2. Declare the model\n",
    "linreg_model = LinearRegression()\n",
    "\n",
    "# 3. Fit the model to the dataset\n",
    "linreg_model.fit(diabetes_X[['bmi']], diabetes_y)"
   ]
  },
  {
   "cell_type": "markdown",
   "id": "8a098f5c",
   "metadata": {},
   "source": [
    "Before we go on to predicting new output, let's first visualize what our model is doing. It is trying to find a straight line that best fits the data. This line can be drawn by getting the intercept and $\\beta_1$ cofficient from the model through the the `intercept_` and `coef_` attributes."
   ]
  },
  {
   "cell_type": "code",
   "execution_count": 7,
   "id": "2b54d714",
   "metadata": {},
   "outputs": [
    {
     "name": "stdout",
     "output_type": "stream",
     "text": [
      "-117.77336656656527\n",
      "10.233127870100777\n"
     ]
    }
   ],
   "source": [
    "print(linreg_model.intercept_)\n",
    "print(linreg_model.coef_[0])"
   ]
  },
  {
   "cell_type": "markdown",
   "id": "925dd197",
   "metadata": {},
   "source": [
    "We can overlay this line over the real data."
   ]
  },
  {
   "cell_type": "code",
   "execution_count": 8,
   "id": "5aba0d7c",
   "metadata": {},
   "outputs": [
    {
     "data": {
      "image/png": "[encoded data removed]",
      "text/plain": [
       "<Figure size 640x480 with 1 Axes>"
      ]
     },
     "metadata": {},
     "output_type": "display_data"
    }
   ],
   "source": [
    "# Select two points: the minimum and maximum of the bmi\n",
    "x1 = diabetes_X[['bmi']].min()\n",
    "x2 = diabetes_X[['bmi']].max()\n",
    "\n",
    "# Calculate y values using slope-intercept equation\n",
    "y1 = linreg_model.coef_[0] * x1 + linreg_model.intercept_\n",
    "y2 = linreg_model.coef_[0] * x2 + linreg_model.intercept_\n",
    "\n",
    "plt.scatter(diabetes_X[['bmi']], diabetes_y)   # Plot real data\n",
    "plt.plot([x1, x2], [y1, y2], color='red')      # Plot predicted line\n",
    "plt.xlabel('BMI')\n",
    "plt.ylabel('Disease progression')\n",
    "plt.show()"
   ]
  },
  {
   "cell_type": "markdown",
   "id": "168c0a8b",
   "metadata": {},
   "source": [
    "Finally, you can use the model to predict what the expected disease progression is for a given BMI."
   ]
  },
  {
   "cell_type": "code",
   "execution_count": 9,
   "id": "da94cc39",
   "metadata": {},
   "outputs": [
    {
     "name": "stderr",
     "output_type": "stream",
     "text": [
      "/home/chananchidas/miniconda3/envs/scanpy/lib/python3.9/site-packages/sklearn/base.py:450: UserWarning: X does not have valid feature names, but LinearRegression was fitted with feature names\n",
      "  warnings.warn(\n"
     ]
    },
    {
     "data": {
      "text/plain": [
       "array([138.05483019, 240.38610889, 173.87077773])"
      ]
     },
     "execution_count": 9,
     "metadata": {},
     "output_type": "execute_result"
    }
   ],
   "source": [
    "# 4. Use the model to predict new output\n",
    "# e.g., people with BMI of 25, 35, and 28.5\n",
    "linreg_model.predict([[25], [35], [28.5]])"
   ]
  },
  {
   "cell_type": "markdown",
   "id": "38a776f4",
   "metadata": {},
   "source": [
    "Note that these values lie on the red line of the figure above."
   ]
  },
  {
   "cell_type": "markdown",
   "id": "950cefa1",
   "metadata": {},
   "source": [
    "### 1.2 K-nearest neighbors regression"
   ]
  },
  {
   "cell_type": "markdown",
   "id": "b9c7c6e9",
   "metadata": {},
   "source": [
    "<div class=\"alert alert-success\">\n",
    "    <h3>Exercise</h3>\n",
    "        <p>Follow the same workflow as above and perform KNN regression on the diabetes dataset, using only the BMI as the feature.</p>\n",
    "</div>"
   ]
  },
  {
   "cell_type": "code",
   "execution_count": null,
   "id": "5db95f32",
   "metadata": {},
   "outputs": [],
   "source": [
    "# 1. Dataset already loaded (diabetes_X[['bmi']] and diabetes_y)\n",
    "\n",
    "# Import k-nearest neighbors model from sklearn\n",
    "from sklearn.neighbors import ...\n",
    "\n",
    "# 2. Declare the model\n",
    "knn_model = ...\n",
    "\n",
    "# 3. Fit the model to the dataset\n",
    "..."
   ]
  },
  {
   "cell_type": "markdown",
   "id": "3ddcadaf",
   "metadata": {},
   "source": [
    "Since KNN is not a linear model, it has no `coef_` or `intercept_` attribute, and we cannot draw a straight line to see where our predictions will lie on. We will visualize the predicted values by creating the entire range of x values and seeing what is predicted."
   ]
  },
  {
   "cell_type": "code",
   "execution_count": null,
   "id": "e300a2fa",
   "metadata": {},
   "outputs": [],
   "source": [
    "# Create 100 evenly-spaced data points between the minimum and maximum bmi values\n",
    "x_values = np.linspace(diabetes_X[['bmi']].min(), diabetes_X[['bmi']].max(), num = 100)\n",
    "\n",
    "# 4. Predict\n",
    "y_values = ..."
   ]
  },
  {
   "cell_type": "code",
   "execution_count": null,
   "id": "783a36ab",
   "metadata": {
    "scrolled": true
   },
   "outputs": [],
   "source": [
    "plt.scatter(diabetes_X[['bmi']], diabetes_y)   # Plot real data\n",
    "plt.plot(x_values, y_values, color='red')      # Plot predicted line\n",
    "plt.xlabel('BMI')\n",
    "plt.ylabel('Disease progression')\n",
    "plt.show()"
   ]
  },
  {
   "cell_type": "markdown",
   "id": "a2e4ce98",
   "metadata": {},
   "source": [
    "### 1.3 Logistic regression\n",
    "\n",
    "For this, we will use the iris dataset instead of the diabetes. "
   ]
  },
  {
   "cell_type": "markdown",
   "id": "1e6ee2bb",
   "metadata": {},
   "source": [
    "<div class=\"alert alert-success\">\n",
    "    <h3>Exercise</h3>\n",
    "        <p>Load and explore the iris toy dataset, then follow the same workflow as above to perform logistic regression.</p>\n",
    "</div>"
   ]
  },
  {
   "cell_type": "code",
   "execution_count": null,
   "id": "60d2dd44",
   "metadata": {},
   "outputs": [],
   "source": [
    "# 1. Load the iris dataset\n",
    "iris_X, iris_y = ...(return_X_y = True, as_frame = True)"
   ]
  },
  {
   "cell_type": "markdown",
   "id": "4f4f680c",
   "metadata": {},
   "source": [
    "<div class=\"alert alert-block alert-warning\">\n",
    "    Explore the dataset. How many features are in this dataset? How many samples? How many classes of irises are there?\n",
    "</div>"
   ]
  },
  {
   "cell_type": "code",
   "execution_count": null,
   "id": "5fcc3caa",
   "metadata": {},
   "outputs": [],
   "source": [
    "# Import logistic regression model from sklearn\n",
    "from sklearn.linear_model import ...\n",
    "\n",
    "# 2. Declare the model\n",
    "logreg_model = ...\n",
    "\n",
    "# 3. Fit the model to the dataset\n",
    "..."
   ]
  },
  {
   "cell_type": "markdown",
   "id": "b1aa57a9",
   "metadata": {},
   "source": [
    "<div class=\"alert alert-block alert-warning\">\n",
    "    If you got a <b>ConvergenceWarning</b>, try reading the error message and see if you can fix it!\n",
    "</div>"
   ]
  },
  {
   "cell_type": "markdown",
   "id": "06ea250f",
   "metadata": {},
   "source": [
    "Try predicting the class of the first 10 samples of the dataset (`iris_X[:10]`), are these the same as the true classes in `iris_y`?"
   ]
  },
  {
   "cell_type": "code",
   "execution_count": null,
   "id": "6f0c610e",
   "metadata": {},
   "outputs": [],
   "source": [
    "predicted_iris_y = ...\n",
    "\n",
    "# Check if predicted_iris_y is the same as the iris_y\n",
    "all(predicted_iris_y == iris_y[:10])"
   ]
  },
  {
   "cell_type": "markdown",
   "id": "a215ec42",
   "metadata": {},
   "source": [
    "## 2. Implementing resampling methods"
   ]
  },
  {
   "cell_type": "markdown",
   "id": "329f7e73",
   "metadata": {},
   "source": [
    "In the previous section, we trained our models on the entire dataset, which can lead to overfitting of the data and underestimation of the error. Hence, in this section, we will implement three different resampling methods and then assess them. We will add two more steps from our approach above:\n",
    "\n",
    "<ol>\n",
    "<li> Loading the dataset. </li>\n",
    "<b><li>Partitioning the dataset.</li></b>\n",
    "<li>Declaring the model you will use.</li>\n",
    "<li>Fitting the training data to the model.</li>\n",
    "<li>Using the model to predict new output.</li>\n",
    "<b><li>Evaluating the model.</li></b>\n",
    "</ol>\n",
    "\n",
    "These new steps go hand-in-hand and are also grouped together in [Chapter 3](https://scikit-learn.org/stable/model_selection.html) of the scikit-learn user guide. Documentation of the resampling methods we will use can be found [here](https://scikit-learn.org/stable/modules/classes.html#module-sklearn.model_selection).\n",
    "\n",
    "Once again, we will demonstrate everything using the linear regression model on the diabetes dataset."
   ]
  },
  {
   "cell_type": "markdown",
   "id": "ccefefc7",
   "metadata": {},
   "source": [
    "### 2.1 Linear regression\n",
    "\n",
    "#### 2.1.1 Evaluate model performance with no partitioning\n",
    "\n",
    "We will repeat the code from section 1.1 here with some changes. Mainly, we demonstrate the use of the `score` function, which is a general function for evaluating models. For linear regression, it computes the $R^2$ score."
   ]
  },
  {
   "cell_type": "code",
   "execution_count": 10,
   "id": "09e4921f",
   "metadata": {},
   "outputs": [
    {
     "data": {
      "text/plain": [
       "0.5177484222203498"
      ]
     },
     "execution_count": 10,
     "metadata": {},
     "output_type": "execute_result"
    }
   ],
   "source": [
    "from sklearn import datasets\n",
    "from sklearn.linear_model import LinearRegression\n",
    "\n",
    "# Set scaled = True so features are more comparable\n",
    "diabetes_X, diabetes_y = datasets.load_diabetes(return_X_y = True, as_frame = True, scaled = True)\n",
    "\n",
    "# Can also combine two steps like this\n",
    "# We will use the entire dataset this time\n",
    "linreg_model = LinearRegression().fit(diabetes_X, diabetes_y)\n",
    "\n",
    "# 6. Evaluate the model\n",
    "linreg_model.score(diabetes_X, diabetes_y)"
   ]
  },
  {
   "cell_type": "markdown",
   "id": "83c2b69b",
   "metadata": {},
   "source": [
    "#### 2.1.2 Evaluate model performance with train-test partitioning\n",
    "\n",
    "Partitioning of the dataset can be done with [`model_selection.train_test_split`](https://scikit-learn.org/stable/modules/generated/sklearn.model_selection.train_test_split.html#sklearn.model_selection.train_test_split) (default: 0.75-0.25 split). The `random_state` parameter is used for reproducibility, so everyone who runs the code with the same random state has their data split the same way."
   ]
  },
  {
   "cell_type": "code",
   "execution_count": 11,
   "id": "f4ec0c9b",
   "metadata": {},
   "outputs": [
    {
     "name": "stdout",
     "output_type": "stream",
     "text": [
      "Score on train data: 0.519034189167905\n",
      "Score on test data: 0.4849058889476757\n"
     ]
    }
   ],
   "source": [
    "from sklearn.model_selection import train_test_split\n",
    "db_X_train, db_X_test, db_y_train, db_y_test = train_test_split(diabetes_X, diabetes_y, random_state = 42)\n",
    "\n",
    "# Fit data only on training model\n",
    "linreg_model = LinearRegression().fit(db_X_train, db_y_train)\n",
    "\n",
    "# Compare model performance on test vs train data\n",
    "print(\"Score on train data:\", linreg_model.score(db_X_train, db_y_train))\n",
    "print(\"Score on test data:\", linreg_model.score(db_X_test, db_y_test))"
   ]
  },
  {
   "cell_type": "markdown",
   "id": "619bfa47",
   "metadata": {},
   "source": [
    "As expected, our model performs worse on data it has never seen before (the test data)."
   ]
  },
  {
   "cell_type": "markdown",
   "id": "d14f29e9",
   "metadata": {},
   "source": [
    "#### 2.1.3 Cross-validation\n",
    "\n",
    "`KFold` is an object class that is used to generate groups for cross-validation. It generates indices for splitting the data into `n_split` number of groups. We visualize this below (you can ignore the code inside the `for` loop):"
   ]
  },
  {
   "cell_type": "code",
   "execution_count": 12,
   "id": "401a69c6",
   "metadata": {
    "tags": [
     "hide-input"
    ]
   },
   "outputs": [
    {
     "data": {
      "text/plain": [
       "<matplotlib.legend.Legend at 0x7f02162e6910>"
      ]
     },
     "execution_count": 12,
     "metadata": {},
     "output_type": "execute_result"
    },
    {
     "data": {
      "image/png": "[encoded data removed]",
      "text/plain": [
       "<Figure size 640x480 with 1 Axes>"
      ]
     },
     "metadata": {},
     "output_type": "display_data"
    }
   ],
   "source": [
    "from sklearn.model_selection import KFold\n",
    "\n",
    "n_splits = 5\n",
    "kf = KFold(n_splits=n_splits)\n",
    "\n",
    "fig, ax = plt.subplots() # Create empty figure\n",
    "\n",
    "for fold_i, (train_index, test_index) in enumerate(kf.split(diabetes_X, diabetes_y)):\n",
    "    \n",
    "    n_samples = len(diabetes_X)\n",
    "    \n",
    "    # Create an array of zeros 1 and make the test set indices = 1\n",
    "    indices = np.zeros(n_samples)\n",
    "    indices[test_index] = 1\n",
    "\n",
    "    # Visualize the results\n",
    "    ax.scatter(range(n_samples),\n",
    "               [fold_i + 1] * n_samples,  \n",
    "               c=indices,              # Color is determined values of the array (0 or 1)\n",
    "               marker=\"_\", lw=10,\n",
    "               vmin=-0.2, vmax=1.2)\n",
    "\n",
    "# Formatting\n",
    "ax.set(xlabel=\"Sample index\", ylabel=\"CV iteration\",\n",
    "       yticks=np.arange(n_splits) + 1, ylim=[n_splits + 1, -0.2])\n",
    "\n",
    "ax.legend([\"Testing set\", \"Training set\"])"
   ]
  },
  {
   "cell_type": "markdown",
   "id": "227f5c35",
   "metadata": {},
   "source": [
    "As you can see, the dataset gets partitioned into 5 groups, with the test set changing every fold. What is important from the code block above is that you will have to **iterate the `KFold` object you declared in a `for` loop.** You can then train and evaluate the model inside each loop."
   ]
  },
  {
   "cell_type": "code",
   "execution_count": 13,
   "id": "fb65b4bd",
   "metadata": {},
   "outputs": [
    {
     "name": "stdout",
     "output_type": "stream",
     "text": [
      "Fold 1\n",
      "  Train: 0.52\n",
      "  Test: 0.43\n",
      "Fold 2\n",
      "  Train: 0.51\n",
      "  Test: 0.52\n",
      "Fold 3\n",
      "  Train: 0.52\n",
      "  Test: 0.48\n",
      "Fold 4\n",
      "  Train: 0.53\n",
      "  Test: 0.43\n",
      "Fold 5\n",
      "  Train: 0.51\n",
      "  Test: 0.55\n",
      "Average train score: 0.520\n",
      "Average test score: 0.482\n"
     ]
    }
   ],
   "source": [
    "scores_per_fold_train = []\n",
    "scores_per_fold_test = []\n",
    "\n",
    "n_splits = 5\n",
    "kf = KFold(n_splits=n_splits)\n",
    "\n",
    "i = 1\n",
    "for (train_index, test_index) in kf.split(diabetes_X, diabetes_y):\n",
    "    db_X_train_i = diabetes_X.iloc[train_index]\n",
    "    db_y_train_i = diabetes_y.iloc[train_index]\n",
    "    \n",
    "    db_X_test_i = diabetes_X.iloc[test_index]\n",
    "    db_y_test_i = diabetes_y.iloc[test_index]\n",
    "    \n",
    "    # Fit data only on training model of this fold\n",
    "    linreg_model = LinearRegression().fit(db_X_train_i, db_y_train_i)\n",
    "\n",
    "    # Store model performance on test vs train data\n",
    "    scores_per_fold_train.append(linreg_model.score(db_X_train_i, db_y_train_i))\n",
    "    scores_per_fold_test.append(linreg_model.score(db_X_test_i, db_y_test_i))\n",
    "    \n",
    "    i += 1\n",
    "\n",
    "# Just code for printing, can ignore\n",
    "printing = list(zip(np.arange(1, n_splits + 1), scores_per_fold_train, scores_per_fold_test))\n",
    "print('\\n'.join('Fold {}\\n  Train: {:.2f}\\n  Test: {:.2f}'.format(*fold) for fold in printing))\n",
    "print('Average train score: {:.3f}'.format(np.mean(scores_per_fold_train)))\n",
    "print('Average test score: {:.3f}'.format(np.mean(scores_per_fold_test)))"
   ]
  },
  {
   "cell_type": "markdown",
   "id": "9ca762c6",
   "metadata": {},
   "source": [
    "<div class=\"alert alert-block alert-warning\">\n",
    "    Leave-one-out cross-validation (LOOCV) is a special case of cross-validation. What would <b>n_splits</b> have to be if you want to perform LOOCV?\n",
    "</div>"
   ]
  },
  {
   "cell_type": "markdown",
   "id": "58b92413",
   "metadata": {},
   "source": [
    "### 2.2 KNN  regression"
   ]
  },
  {
   "cell_type": "markdown",
   "id": "5675e085",
   "metadata": {},
   "source": [
    "<div class=\"alert alert-success\">\n",
    "    <h3>Exercise</h3>\n",
    "        <p>Implement KNN on the train-test partitioning and 5-fold cross-validation. In both cases, compare scores between training and test data.</p>\n",
    "</div>"
   ]
  },
  {
   "cell_type": "markdown",
   "id": "5741d86e",
   "metadata": {},
   "source": [
    "#### 2.2.1 Train-test partitioning"
   ]
  },
  {
   "cell_type": "code",
   "execution_count": null,
   "id": "94de198b",
   "metadata": {},
   "outputs": [],
   "source": [
    "diabetes_X, diabetes_y = ...\n",
    "\n",
    "# Partition data into train and test data\n",
    "db_X_train, db_X_test, db_y_train, db_y_test = ...\n",
    "\n",
    "# Declare model and fit\n",
    "knn_model = ...\n",
    "\n",
    "# Compare scores\n",
    "knn_train_score = ...\n",
    "knn_test_score = ...\n",
    "\n",
    "print(\"Score on train data:\", knn_train_score)\n",
    "print(\"Score on test data:\", knn_test_score)"
   ]
  },
  {
   "cell_type": "markdown",
   "id": "e76e8de8",
   "metadata": {},
   "source": [
    "<div class=\"alert alert-block alert-warning\">\n",
    "    Compared to linear regression, the difference between the train and test performance of KNN is much higher. Can you explain this?\n",
    "</div>"
   ]
  },
  {
   "cell_type": "markdown",
   "id": "e73d2d83",
   "metadata": {},
   "source": [
    "#### 2.2.2 Cross-validation"
   ]
  },
  {
   "cell_type": "code",
   "execution_count": null,
   "id": "354e7fce",
   "metadata": {
    "scrolled": true
   },
   "outputs": [],
   "source": [
    "scores_per_fold_train = []\n",
    "scores_per_fold_test = []\n",
    "\n",
    "n_splits = ...\n",
    "kf = ...\n",
    "\n",
    "i = 1\n",
    "for (train_index, test_index) in ...:\n",
    "    db_X_train_i = ...\n",
    "    db_y_train_i = ...\n",
    "    \n",
    "    db_X_test_i = ...\n",
    "    db_y_test_i = ...\n",
    "    \n",
    "    # Fit data only on training model of this fold\n",
    "    knn_model = ...\n",
    "\n",
    "    # Store model performance on test vs train data\n",
    "    scores_per_fold_train.append(...)\n",
    "    scores_per_fold_test.append(...)\n",
    "    \n",
    "    i += 1\n",
    "\n",
    "print('Average train score: {:.3f}'.format(np.mean(scores_per_fold_train)))\n",
    "print('Average test score: {:.3f}'.format(np.mean(scores_per_fold_test)))"
   ]
  },
  {
   "cell_type": "markdown",
   "id": "14abdff7",
   "metadata": {},
   "source": [
    "### 2.3 Logistic regression"
   ]
  },
  {
   "cell_type": "markdown",
   "id": "66b57d8a",
   "metadata": {},
   "source": [
    "<div class=\"alert alert-success\">\n",
    "    <h3>Exercise</h3>\n",
    "        <p>Implement logistic regression on the train-test partitioning and 5-fold cross-validation of the iris dataset. In both cases, compare scores between training and test data.</p>\n",
    "</div>"
   ]
  },
  {
   "cell_type": "markdown",
   "id": "3c0a33ae",
   "metadata": {},
   "source": [
    "#### 2.3.1 Train-test partitioning"
   ]
  },
  {
   "cell_type": "code",
   "execution_count": null,
   "id": "19dd268f",
   "metadata": {},
   "outputs": [],
   "source": [
    "# Load the iris dataset\n",
    "iris_X, iris_y = ...\n",
    "\n",
    "# Partition data into train and test data\n",
    "iris_X_train, iris_X_test, iris_y_train, iris_y_test = ...\n",
    "\n",
    "# Declare model and fit\n",
    "logreg_model = ...\n",
    "\n",
    "# Compare scores\n",
    "logreg_train_score = ...\n",
    "logreg_test_score = ...\n",
    "\n",
    "print(\"Score on train data:\", logreg_train_score)\n",
    "print(\"Score on test data:\", logreg_test_score)"
   ]
  },
  {
   "cell_type": "markdown",
   "id": "6089121b",
   "metadata": {},
   "source": [
    "<div class=\"alert alert-block alert-warning\">\n",
    "    For regression models, the score is the $R^2$ value. What does the <b>score</b> refer to for logistic regression?\n",
    "</div>"
   ]
  },
  {
   "cell_type": "markdown",
   "id": "6a7b59bc",
   "metadata": {},
   "source": [
    "#### 2.3.2 Cross-validation\n",
    "\n",
    "For this section, it is important that you use `StratifiedKFold` instead of `KFold`. Recall the barplot we generated in 2.1.3, and notice that `KFold` splits the dataset into groups according in an orderly manner. Now notice how the `iris` dataset is organized (the different colors refer to different classes)."
   ]
  },
  {
   "cell_type": "code",
   "execution_count": null,
   "id": "b922df2f",
   "metadata": {},
   "outputs": [],
   "source": [
    "fig, ax = plt.subplots(1, 1, figsize=(7, 1)) # Create empty figure\n",
    "n_samples = len(iris_X)\n",
    "    \n",
    "ax.scatter(range(n_samples), [1]*n_samples, c=iris_y, marker=\"_\", lw=10, cmap = plt.cm.Paired)\n",
    "    \n",
    "# Formatting\n",
    "ax.set(xlabel=\"Sample index\")\n",
    "ax.yaxis.set_tick_params(labelleft=False)\n",
    "ax.set_yticks([])\n",
    "plt.show()"
   ]
  },
  {
   "cell_type": "markdown",
   "id": "63e5cbd8",
   "metadata": {},
   "source": [
    "Unlike `Kfold`, each group created by `StratifiedKFold` will have an equal number of samples from each class."
   ]
  },
  {
   "cell_type": "code",
   "execution_count": null,
   "id": "52cb0e15",
   "metadata": {},
   "outputs": [],
   "source": [
    "from sklearn.model_selection import StratifiedKFold\n",
    "\n",
    "scores_per_fold_train = []\n",
    "scores_per_fold_test = []\n",
    "\n",
    "n_splits = ...\n",
    "kf = ...\n",
    "\n",
    "i = 1\n",
    "for (train_index, test_index) in ...:\n",
    "    iris_X_train_i = ...\n",
    "    iris_y_train_i = ...\n",
    "    \n",
    "    iris_X_test_i = ...\n",
    "    iris_y_test_i = ...\n",
    "    \n",
    "    # Fit data only on training model of this fold\n",
    "    logreg_model = ...  \n",
    "\n",
    "    # Store model performance on test vs train data\n",
    "    scores_per_fold_train.append(...)\n",
    "    scores_per_fold_test.append(...)\n",
    "    \n",
    "    i += 1\n",
    "\n",
    "print('Average train score: {:.3f}'.format(np.mean(scores_per_fold_train)))\n",
    "print('Average test score: {:.3f}'.format(np.mean(scores_per_fold_test)))"
   ]
  },
  {
   "cell_type": "markdown",
   "id": "95c397b0",
   "metadata": {},
   "source": [
    "<div class=\"alert alert-block alert-warning\">\n",
    "    Compare the results of using <code>KFold</code> with <code>StratifiedKFold</code>.\n",
    "</div>"
   ]
  },
  {
   "cell_type": "markdown",
   "id": "6b053d18",
   "metadata": {},
   "source": [
    "### 2.4 Bootstrapping (Optional)\n",
    "\n",
    "In this section, we demonstrate bootstrapping with linear regression on the diabetes dataset. We will implement this using the `resample` function with `replace=TRUE`, indicating that we are sampling with replacement. We will sample from the row labels (`.index`) of the dataset, which in the diabetes dataset is just a range of numbers from 0 to 441."
   ]
  },
  {
   "cell_type": "code",
   "execution_count": 14,
   "id": "d708d6a1",
   "metadata": {},
   "outputs": [
    {
     "data": {
      "text/plain": [
       "RangeIndex(start=0, stop=442, step=1)"
      ]
     },
     "execution_count": 14,
     "metadata": {},
     "output_type": "execute_result"
    }
   ],
   "source": [
    "diabetes_X.index"
   ]
  },
  {
   "cell_type": "markdown",
   "id": "5f19fdb5",
   "metadata": {},
   "source": [
    "We will resampling our training data `n_iteration` times, fitting `n_iteration` linear regression models in the process. We will also store all $R^2$ values and model coefficient estimates in a `DataFrame`."
   ]
  },
  {
   "cell_type": "code",
   "execution_count": 15,
   "id": "86a993c6",
   "metadata": {},
   "outputs": [],
   "source": [
    "from sklearn.utils import resample\n",
    "\n",
    "n_iterations = 1000\n",
    "\n",
    "# Initialize estimator\n",
    "linreg_model = LinearRegression()\n",
    "\n",
    "# Initialize DataFrame to hold bootstrap statistics\n",
    "bootstrapped_stats = pd.DataFrame()\n",
    "\n",
    "# Each loop iteration is a single bootstrap resample and model fit\n",
    "for i in range(n_iterations):\n",
    "    \n",
    "    # As training set, sample with replacement using row labels\n",
    "    # Define test set to be all observations not in training set\n",
    "    train_index = resample(diabetes_X.index, replace=True)\n",
    "    test_index = diabetes_X.index[~diabetes_X.index.isin(train_index)]\n",
    "    \n",
    "    # Can reuse same code from the cross-validation!\n",
    "    db_X_train_i = diabetes_X.iloc[train_index]\n",
    "    db_y_train_i = diabetes_y.iloc[train_index]\n",
    "    \n",
    "    db_X_test_i = diabetes_X.iloc[test_index]\n",
    "    db_y_test_i = diabetes_y.iloc[test_index]\n",
    "\n",
    "    # Fit model\n",
    "    linreg_model.fit(db_X_train_i, db_y_train_i)\n",
    "\n",
    "    # Store model coefficients and score in DataFrame\n",
    "    data = {'intercept':linreg_model.intercept_,\n",
    "            'beta_coefficient':linreg_model.coef_[0],\n",
    "            'train_score':linreg_model.score(db_X_train_i, db_y_train_i),\n",
    "            'test_score':linreg_model.score(db_X_test_i, db_y_test_i)\n",
    "    }\n",
    "\n",
    "    bootstrapped_stats_i = pd.DataFrame(data, index = [i])\n",
    "    \n",
    "    # Concatenate result\n",
    "    bootstrapped_stats = pd.concat(objs=[bootstrapped_stats,\n",
    "                                         bootstrapped_stats_i])"
   ]
  },
  {
   "cell_type": "code",
   "execution_count": 16,
   "id": "a02b84a6",
   "metadata": {
    "scrolled": false
   },
   "outputs": [
    {
     "data": {
      "text/html": [
       "<div>\n",
       "<style scoped>\n",
       "    .dataframe tbody tr th:only-of-type {\n",
       "        vertical-align: middle;\n",
       "    }\n",
       "\n",
       "    .dataframe tbody tr th {\n",
       "        vertical-align: top;\n",
       "    }\n",
       "\n",
       "    .dataframe thead th {\n",
       "        text-align: right;\n",
       "    }\n",
       "</style>\n",
       "<table border=\"1\" class=\"dataframe\">\n",
       "  <thead>\n",
       "    <tr style=\"text-align: right;\">\n",
       "      <th></th>\n",
       "      <th>intercept</th>\n",
       "      <th>beta_coefficient</th>\n",
       "      <th>train_score</th>\n",
       "      <th>test_score</th>\n",
       "    </tr>\n",
       "  </thead>\n",
       "  <tbody>\n",
       "    <tr>\n",
       "      <th>0</th>\n",
       "      <td>149.698849</td>\n",
       "      <td>57.683819</td>\n",
       "      <td>0.505194</td>\n",
       "      <td>0.500981</td>\n",
       "    </tr>\n",
       "    <tr>\n",
       "      <th>1</th>\n",
       "      <td>158.047409</td>\n",
       "      <td>30.341303</td>\n",
       "      <td>0.541931</td>\n",
       "      <td>0.492456</td>\n",
       "    </tr>\n",
       "    <tr>\n",
       "      <th>2</th>\n",
       "      <td>153.486593</td>\n",
       "      <td>-119.075974</td>\n",
       "      <td>0.585678</td>\n",
       "      <td>0.344746</td>\n",
       "    </tr>\n",
       "    <tr>\n",
       "      <th>3</th>\n",
       "      <td>149.862062</td>\n",
       "      <td>-69.932899</td>\n",
       "      <td>0.542991</td>\n",
       "      <td>0.472019</td>\n",
       "    </tr>\n",
       "    <tr>\n",
       "      <th>4</th>\n",
       "      <td>148.189695</td>\n",
       "      <td>4.636406</td>\n",
       "      <td>0.514270</td>\n",
       "      <td>0.477434</td>\n",
       "    </tr>\n",
       "  </tbody>\n",
       "</table>\n",
       "</div>"
      ],
      "text/plain": [
       "    intercept  beta_coefficient  train_score  test_score\n",
       "0  149.698849         57.683819     0.505194    0.500981\n",
       "1  158.047409         30.341303     0.541931    0.492456\n",
       "2  153.486593       -119.075974     0.585678    0.344746\n",
       "3  149.862062        -69.932899     0.542991    0.472019\n",
       "4  148.189695          4.636406     0.514270    0.477434"
      ]
     },
     "execution_count": 16,
     "metadata": {},
     "output_type": "execute_result"
    }
   ],
   "source": [
    "bootstrapped_stats.head()"
   ]
  },
  {
   "cell_type": "markdown",
   "id": "e1a2c49b",
   "metadata": {},
   "source": [
    "Let's take a look at the statistics:"
   ]
  },
  {
   "cell_type": "code",
   "execution_count": 17,
   "id": "cc34e12d",
   "metadata": {
    "scrolled": false
   },
   "outputs": [
    {
     "data": {
      "image/png": "[encoded data removed]",
      "text/plain": [
       "<Figure size 700x700 with 4 Axes>"
      ]
     },
     "metadata": {},
     "output_type": "display_data"
    }
   ],
   "source": [
    "fig, axs = plt.subplots(2, 2, figsize = (7, 7))\n",
    "\n",
    "axs[0, 0].hist(bootstrapped_stats[\"intercept\"], bins=100)\n",
    "axs[0, 0].set_title('Intercept')\n",
    "axs[1, 0].hist(bootstrapped_stats[\"beta_coefficient\"], bins=100)\n",
    "axs[1, 0].set_title('Beta')\n",
    "axs[0, 1].hist(bootstrapped_stats[\"train_score\"], bins=100)\n",
    "axs[0, 1].set_title('Training score')\n",
    "axs[0, 1].set_xlim(0.2, 0.8)\n",
    "axs[1, 1].hist(bootstrapped_stats[\"test_score\"], bins=100)\n",
    "axs[1, 1].set_title('Test score')\n",
    "axs[1, 1].set_xlim(0.2, 0.8)\n",
    "plt.show()"
   ]
  }
 ],
 "metadata": {
  "kernelspec": {
   "display_name": "Python [conda env:scanpy]",
   "language": "python",
   "name": "conda-env-scanpy-py"
  },
  "language_info": {
   "codemirror_mode": {
    "name": "ipython",
    "version": 3
   },
   "file_extension": ".py",
   "mimetype": "text/x-python",
   "name": "python",
   "nbconvert_exporter": "python",
   "pygments_lexer": "ipython3",
   "version": "3.9.12"
  }
 },
 "nbformat": 4,
 "nbformat_minor": 5
}
